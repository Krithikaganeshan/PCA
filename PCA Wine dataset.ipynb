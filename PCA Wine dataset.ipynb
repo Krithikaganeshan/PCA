{
 "cells": [
  {
   "cell_type": "code",
   "execution_count": 1,
   "metadata": {},
   "outputs": [],
   "source": [
    "import numpy as np\n",
    "import matplotlib.pyplot as plt\n",
    "import pandas as pd\n",
    "from pandas import Series, DataFrame\n",
    "import seaborn as sns\n",
    "%matplotlib inline\n",
    "from sklearn.model_selection import train_test_split\n",
    "from sklearn.linear_model import LogisticRegression\n",
    "import statsmodels.formula.api as smf\n",
    "from sklearn import metrics\n",
    "from sklearn.model_selection import KFold\n",
    "from sklearn.metrics import roc_curve, auc"
   ]
  },
  {
   "cell_type": "code",
   "execution_count": 2,
   "metadata": {},
   "outputs": [
    {
     "data": {
      "text/html": [
       "<div>\n",
       "<style scoped>\n",
       "    .dataframe tbody tr th:only-of-type {\n",
       "        vertical-align: middle;\n",
       "    }\n",
       "\n",
       "    .dataframe tbody tr th {\n",
       "        vertical-align: top;\n",
       "    }\n",
       "\n",
       "    .dataframe thead th {\n",
       "        text-align: right;\n",
       "    }\n",
       "</style>\n",
       "<table border=\"1\" class=\"dataframe\">\n",
       "  <thead>\n",
       "    <tr style=\"text-align: right;\">\n",
       "      <th></th>\n",
       "      <th>class_label</th>\n",
       "      <th>class_name</th>\n",
       "      <th>alcohol</th>\n",
       "      <th>malic_acid</th>\n",
       "      <th>ash</th>\n",
       "      <th>alcalinity_of_ash</th>\n",
       "      <th>magnesium</th>\n",
       "      <th>total_phenols</th>\n",
       "      <th>flavanoids</th>\n",
       "      <th>nonflavanoid_phenols</th>\n",
       "      <th>proanthocyanins</th>\n",
       "      <th>color_intensity</th>\n",
       "      <th>hue</th>\n",
       "      <th>od280</th>\n",
       "      <th>proline</th>\n",
       "    </tr>\n",
       "  </thead>\n",
       "  <tbody>\n",
       "    <tr>\n",
       "      <th>0</th>\n",
       "      <td>1</td>\n",
       "      <td>Barolo</td>\n",
       "      <td>14.23</td>\n",
       "      <td>1.71</td>\n",
       "      <td>2.43</td>\n",
       "      <td>15.6</td>\n",
       "      <td>127</td>\n",
       "      <td>2.80</td>\n",
       "      <td>3.06</td>\n",
       "      <td>0.28</td>\n",
       "      <td>2.29</td>\n",
       "      <td>5.64</td>\n",
       "      <td>1.04</td>\n",
       "      <td>3.92</td>\n",
       "      <td>1065</td>\n",
       "    </tr>\n",
       "    <tr>\n",
       "      <th>1</th>\n",
       "      <td>1</td>\n",
       "      <td>Barolo</td>\n",
       "      <td>13.20</td>\n",
       "      <td>1.78</td>\n",
       "      <td>2.14</td>\n",
       "      <td>11.2</td>\n",
       "      <td>100</td>\n",
       "      <td>2.65</td>\n",
       "      <td>2.76</td>\n",
       "      <td>0.26</td>\n",
       "      <td>1.28</td>\n",
       "      <td>4.38</td>\n",
       "      <td>1.05</td>\n",
       "      <td>3.40</td>\n",
       "      <td>1050</td>\n",
       "    </tr>\n",
       "    <tr>\n",
       "      <th>2</th>\n",
       "      <td>1</td>\n",
       "      <td>Barolo</td>\n",
       "      <td>13.16</td>\n",
       "      <td>2.36</td>\n",
       "      <td>2.67</td>\n",
       "      <td>18.6</td>\n",
       "      <td>101</td>\n",
       "      <td>2.80</td>\n",
       "      <td>3.24</td>\n",
       "      <td>0.30</td>\n",
       "      <td>2.81</td>\n",
       "      <td>5.68</td>\n",
       "      <td>1.03</td>\n",
       "      <td>3.17</td>\n",
       "      <td>1185</td>\n",
       "    </tr>\n",
       "    <tr>\n",
       "      <th>3</th>\n",
       "      <td>1</td>\n",
       "      <td>Barolo</td>\n",
       "      <td>14.37</td>\n",
       "      <td>1.95</td>\n",
       "      <td>2.50</td>\n",
       "      <td>16.8</td>\n",
       "      <td>113</td>\n",
       "      <td>3.85</td>\n",
       "      <td>3.49</td>\n",
       "      <td>0.24</td>\n",
       "      <td>2.18</td>\n",
       "      <td>7.80</td>\n",
       "      <td>0.86</td>\n",
       "      <td>3.45</td>\n",
       "      <td>1480</td>\n",
       "    </tr>\n",
       "    <tr>\n",
       "      <th>4</th>\n",
       "      <td>1</td>\n",
       "      <td>Barolo</td>\n",
       "      <td>13.24</td>\n",
       "      <td>2.59</td>\n",
       "      <td>2.87</td>\n",
       "      <td>21.0</td>\n",
       "      <td>118</td>\n",
       "      <td>2.80</td>\n",
       "      <td>2.69</td>\n",
       "      <td>0.39</td>\n",
       "      <td>1.82</td>\n",
       "      <td>4.32</td>\n",
       "      <td>1.04</td>\n",
       "      <td>2.93</td>\n",
       "      <td>735</td>\n",
       "    </tr>\n",
       "  </tbody>\n",
       "</table>\n",
       "</div>"
      ],
      "text/plain": [
       "   class_label class_name  alcohol  malic_acid   ash  alcalinity_of_ash  \\\n",
       "0            1     Barolo    14.23        1.71  2.43               15.6   \n",
       "1            1     Barolo    13.20        1.78  2.14               11.2   \n",
       "2            1     Barolo    13.16        2.36  2.67               18.6   \n",
       "3            1     Barolo    14.37        1.95  2.50               16.8   \n",
       "4            1     Barolo    13.24        2.59  2.87               21.0   \n",
       "\n",
       "   magnesium  total_phenols  flavanoids  nonflavanoid_phenols  \\\n",
       "0        127           2.80        3.06                  0.28   \n",
       "1        100           2.65        2.76                  0.26   \n",
       "2        101           2.80        3.24                  0.30   \n",
       "3        113           3.85        3.49                  0.24   \n",
       "4        118           2.80        2.69                  0.39   \n",
       "\n",
       "   proanthocyanins  color_intensity   hue  od280  proline  \n",
       "0             2.29             5.64  1.04   3.92     1065  \n",
       "1             1.28             4.38  1.05   3.40     1050  \n",
       "2             2.81             5.68  1.03   3.17     1185  \n",
       "3             2.18             7.80  0.86   3.45     1480  \n",
       "4             1.82             4.32  1.04   2.93      735  "
      ]
     },
     "execution_count": 2,
     "metadata": {},
     "output_type": "execute_result"
    }
   ],
   "source": [
    "wine=pd.read_csv('wine.csv')\n",
    "wine.head()"
   ]
  },
  {
   "cell_type": "code",
   "execution_count": 3,
   "metadata": {},
   "outputs": [
    {
     "data": {
      "text/plain": [
       "(178, 15)"
      ]
     },
     "execution_count": 3,
     "metadata": {},
     "output_type": "execute_result"
    }
   ],
   "source": [
    "wine.shape"
   ]
  },
  {
   "cell_type": "code",
   "execution_count": 4,
   "metadata": {
    "scrolled": true
   },
   "outputs": [
    {
     "name": "stdout",
     "output_type": "stream",
     "text": [
      "<class 'pandas.core.frame.DataFrame'>\n",
      "RangeIndex: 178 entries, 0 to 177\n",
      "Data columns (total 15 columns):\n",
      "class_label             178 non-null int64\n",
      "class_name              178 non-null object\n",
      "alcohol                 178 non-null float64\n",
      "malic_acid              178 non-null float64\n",
      "ash                     178 non-null float64\n",
      "alcalinity_of_ash       178 non-null float64\n",
      "magnesium               178 non-null int64\n",
      "total_phenols           178 non-null float64\n",
      "flavanoids              178 non-null float64\n",
      "nonflavanoid_phenols    178 non-null float64\n",
      "proanthocyanins         178 non-null float64\n",
      "color_intensity         178 non-null float64\n",
      "hue                     178 non-null float64\n",
      "od280                   178 non-null float64\n",
      "proline                 178 non-null int64\n",
      "dtypes: float64(11), int64(3), object(1)\n",
      "memory usage: 20.9+ KB\n"
     ]
    }
   ],
   "source": [
    "wine.info()"
   ]
  },
  {
   "cell_type": "code",
   "execution_count": 5,
   "metadata": {},
   "outputs": [
    {
     "data": {
      "text/html": [
       "<div>\n",
       "<style scoped>\n",
       "    .dataframe tbody tr th:only-of-type {\n",
       "        vertical-align: middle;\n",
       "    }\n",
       "\n",
       "    .dataframe tbody tr th {\n",
       "        vertical-align: top;\n",
       "    }\n",
       "\n",
       "    .dataframe thead th {\n",
       "        text-align: right;\n",
       "    }\n",
       "</style>\n",
       "<table border=\"1\" class=\"dataframe\">\n",
       "  <thead>\n",
       "    <tr style=\"text-align: right;\">\n",
       "      <th></th>\n",
       "      <th>class_label</th>\n",
       "      <th>alcohol</th>\n",
       "      <th>malic_acid</th>\n",
       "      <th>ash</th>\n",
       "      <th>alcalinity_of_ash</th>\n",
       "      <th>magnesium</th>\n",
       "      <th>total_phenols</th>\n",
       "      <th>flavanoids</th>\n",
       "      <th>nonflavanoid_phenols</th>\n",
       "      <th>proanthocyanins</th>\n",
       "      <th>color_intensity</th>\n",
       "      <th>hue</th>\n",
       "      <th>od280</th>\n",
       "      <th>proline</th>\n",
       "    </tr>\n",
       "  </thead>\n",
       "  <tbody>\n",
       "    <tr>\n",
       "      <th>count</th>\n",
       "      <td>178.000000</td>\n",
       "      <td>178.000000</td>\n",
       "      <td>178.000000</td>\n",
       "      <td>178.000000</td>\n",
       "      <td>178.000000</td>\n",
       "      <td>178.000000</td>\n",
       "      <td>178.000000</td>\n",
       "      <td>178.000000</td>\n",
       "      <td>178.000000</td>\n",
       "      <td>178.000000</td>\n",
       "      <td>178.000000</td>\n",
       "      <td>178.000000</td>\n",
       "      <td>178.000000</td>\n",
       "      <td>178.000000</td>\n",
       "    </tr>\n",
       "    <tr>\n",
       "      <th>mean</th>\n",
       "      <td>1.938202</td>\n",
       "      <td>13.000618</td>\n",
       "      <td>2.336348</td>\n",
       "      <td>2.366517</td>\n",
       "      <td>19.494944</td>\n",
       "      <td>99.741573</td>\n",
       "      <td>2.295112</td>\n",
       "      <td>2.029270</td>\n",
       "      <td>0.361854</td>\n",
       "      <td>1.590899</td>\n",
       "      <td>5.058090</td>\n",
       "      <td>0.957449</td>\n",
       "      <td>2.611685</td>\n",
       "      <td>746.893258</td>\n",
       "    </tr>\n",
       "    <tr>\n",
       "      <th>std</th>\n",
       "      <td>0.775035</td>\n",
       "      <td>0.811827</td>\n",
       "      <td>1.117146</td>\n",
       "      <td>0.274344</td>\n",
       "      <td>3.339564</td>\n",
       "      <td>14.282484</td>\n",
       "      <td>0.625851</td>\n",
       "      <td>0.998859</td>\n",
       "      <td>0.124453</td>\n",
       "      <td>0.572359</td>\n",
       "      <td>2.318286</td>\n",
       "      <td>0.228572</td>\n",
       "      <td>0.709990</td>\n",
       "      <td>314.907474</td>\n",
       "    </tr>\n",
       "    <tr>\n",
       "      <th>min</th>\n",
       "      <td>1.000000</td>\n",
       "      <td>11.030000</td>\n",
       "      <td>0.740000</td>\n",
       "      <td>1.360000</td>\n",
       "      <td>10.600000</td>\n",
       "      <td>70.000000</td>\n",
       "      <td>0.980000</td>\n",
       "      <td>0.340000</td>\n",
       "      <td>0.130000</td>\n",
       "      <td>0.410000</td>\n",
       "      <td>1.280000</td>\n",
       "      <td>0.480000</td>\n",
       "      <td>1.270000</td>\n",
       "      <td>278.000000</td>\n",
       "    </tr>\n",
       "    <tr>\n",
       "      <th>25%</th>\n",
       "      <td>1.000000</td>\n",
       "      <td>12.362500</td>\n",
       "      <td>1.602500</td>\n",
       "      <td>2.210000</td>\n",
       "      <td>17.200000</td>\n",
       "      <td>88.000000</td>\n",
       "      <td>1.742500</td>\n",
       "      <td>1.205000</td>\n",
       "      <td>0.270000</td>\n",
       "      <td>1.250000</td>\n",
       "      <td>3.220000</td>\n",
       "      <td>0.782500</td>\n",
       "      <td>1.937500</td>\n",
       "      <td>500.500000</td>\n",
       "    </tr>\n",
       "    <tr>\n",
       "      <th>50%</th>\n",
       "      <td>2.000000</td>\n",
       "      <td>13.050000</td>\n",
       "      <td>1.865000</td>\n",
       "      <td>2.360000</td>\n",
       "      <td>19.500000</td>\n",
       "      <td>98.000000</td>\n",
       "      <td>2.355000</td>\n",
       "      <td>2.135000</td>\n",
       "      <td>0.340000</td>\n",
       "      <td>1.555000</td>\n",
       "      <td>4.690000</td>\n",
       "      <td>0.965000</td>\n",
       "      <td>2.780000</td>\n",
       "      <td>673.500000</td>\n",
       "    </tr>\n",
       "    <tr>\n",
       "      <th>75%</th>\n",
       "      <td>3.000000</td>\n",
       "      <td>13.677500</td>\n",
       "      <td>3.082500</td>\n",
       "      <td>2.557500</td>\n",
       "      <td>21.500000</td>\n",
       "      <td>107.000000</td>\n",
       "      <td>2.800000</td>\n",
       "      <td>2.875000</td>\n",
       "      <td>0.437500</td>\n",
       "      <td>1.950000</td>\n",
       "      <td>6.200000</td>\n",
       "      <td>1.120000</td>\n",
       "      <td>3.170000</td>\n",
       "      <td>985.000000</td>\n",
       "    </tr>\n",
       "    <tr>\n",
       "      <th>max</th>\n",
       "      <td>3.000000</td>\n",
       "      <td>14.830000</td>\n",
       "      <td>5.800000</td>\n",
       "      <td>3.230000</td>\n",
       "      <td>30.000000</td>\n",
       "      <td>162.000000</td>\n",
       "      <td>3.880000</td>\n",
       "      <td>5.080000</td>\n",
       "      <td>0.660000</td>\n",
       "      <td>3.580000</td>\n",
       "      <td>13.000000</td>\n",
       "      <td>1.710000</td>\n",
       "      <td>4.000000</td>\n",
       "      <td>1680.000000</td>\n",
       "    </tr>\n",
       "  </tbody>\n",
       "</table>\n",
       "</div>"
      ],
      "text/plain": [
       "       class_label     alcohol  malic_acid         ash  alcalinity_of_ash  \\\n",
       "count   178.000000  178.000000  178.000000  178.000000         178.000000   \n",
       "mean      1.938202   13.000618    2.336348    2.366517          19.494944   \n",
       "std       0.775035    0.811827    1.117146    0.274344           3.339564   \n",
       "min       1.000000   11.030000    0.740000    1.360000          10.600000   \n",
       "25%       1.000000   12.362500    1.602500    2.210000          17.200000   \n",
       "50%       2.000000   13.050000    1.865000    2.360000          19.500000   \n",
       "75%       3.000000   13.677500    3.082500    2.557500          21.500000   \n",
       "max       3.000000   14.830000    5.800000    3.230000          30.000000   \n",
       "\n",
       "        magnesium  total_phenols  flavanoids  nonflavanoid_phenols  \\\n",
       "count  178.000000     178.000000  178.000000            178.000000   \n",
       "mean    99.741573       2.295112    2.029270              0.361854   \n",
       "std     14.282484       0.625851    0.998859              0.124453   \n",
       "min     70.000000       0.980000    0.340000              0.130000   \n",
       "25%     88.000000       1.742500    1.205000              0.270000   \n",
       "50%     98.000000       2.355000    2.135000              0.340000   \n",
       "75%    107.000000       2.800000    2.875000              0.437500   \n",
       "max    162.000000       3.880000    5.080000              0.660000   \n",
       "\n",
       "       proanthocyanins  color_intensity         hue       od280      proline  \n",
       "count       178.000000       178.000000  178.000000  178.000000   178.000000  \n",
       "mean          1.590899         5.058090    0.957449    2.611685   746.893258  \n",
       "std           0.572359         2.318286    0.228572    0.709990   314.907474  \n",
       "min           0.410000         1.280000    0.480000    1.270000   278.000000  \n",
       "25%           1.250000         3.220000    0.782500    1.937500   500.500000  \n",
       "50%           1.555000         4.690000    0.965000    2.780000   673.500000  \n",
       "75%           1.950000         6.200000    1.120000    3.170000   985.000000  \n",
       "max           3.580000        13.000000    1.710000    4.000000  1680.000000  "
      ]
     },
     "execution_count": 5,
     "metadata": {},
     "output_type": "execute_result"
    }
   ],
   "source": [
    "wine.describe()"
   ]
  },
  {
   "cell_type": "markdown",
   "metadata": {},
   "source": [
    "### Preprocessing\n",
    "#### Missing values detection"
   ]
  },
  {
   "cell_type": "code",
   "execution_count": 6,
   "metadata": {
    "scrolled": true
   },
   "outputs": [
    {
     "data": {
      "text/plain": [
       "class_label             False\n",
       "class_name              False\n",
       "alcohol                 False\n",
       "malic_acid              False\n",
       "ash                     False\n",
       "alcalinity_of_ash       False\n",
       "magnesium               False\n",
       "total_phenols           False\n",
       "flavanoids              False\n",
       "nonflavanoid_phenols    False\n",
       "proanthocyanins         False\n",
       "color_intensity         False\n",
       "hue                     False\n",
       "od280                   False\n",
       "proline                 False\n",
       "dtype: bool"
      ]
     },
     "execution_count": 6,
     "metadata": {},
     "output_type": "execute_result"
    }
   ],
   "source": [
    "wine.isnull().any()"
   ]
  },
  {
   "cell_type": "markdown",
   "metadata": {},
   "source": [
    "#### There are no missing values detected in this dataset."
   ]
  },
  {
   "cell_type": "markdown",
   "metadata": {},
   "source": [
    "#### Outlier Detection and Standerdization"
   ]
  },
  {
   "cell_type": "code",
   "execution_count": 7,
   "metadata": {},
   "outputs": [
    {
     "data": {
      "text/plain": [
       "<matplotlib.axes._subplots.AxesSubplot at 0x2376656c2b0>"
      ]
     },
     "execution_count": 7,
     "metadata": {},
     "output_type": "execute_result"
    },
    {
     "data": {
      "image/png": "[encoded data removed]",
      "text/plain": [
       "<Figure size 1080x720 with 1 Axes>"
      ]
     },
     "metadata": {
      "needs_background": "light"
     },
     "output_type": "display_data"
    }
   ],
   "source": [
    "from sklearn.preprocessing import StandardScaler\n",
    "x=wine.drop(['class_name','class_label'], axis=1)\n",
    "scaler=StandardScaler().fit(x)\n",
    "y=pd.DataFrame(scaler.transform(x),columns=x.columns)\n",
    "y.boxplot(vert=False,figsize=(15,10))"
   ]
  },
  {
   "cell_type": "markdown",
   "metadata": {},
   "source": [
    "#### From the above boxplot we infer that the variables hue,color_intensity, proanthocyanins, magnesium, alcalinity_of_ash, ash, malic_acid have outliers."
   ]
  },
  {
   "cell_type": "markdown",
   "metadata": {},
   "source": [
    "#### Applying PCA on the wine dataset"
   ]
  },
  {
   "cell_type": "code",
   "execution_count": 8,
   "metadata": {},
   "outputs": [],
   "source": [
    "from sklearn.decomposition import PCA"
   ]
  },
  {
   "cell_type": "code",
   "execution_count": 9,
   "metadata": {},
   "outputs": [],
   "source": [
    "pca = PCA(n_components=13)\n",
    "principalComponents = pca.fit_transform(y)\n",
    "principalDf = pd.DataFrame(data = principalComponents, columns=['component1','component2','component3','component4','component5','component6','component7','component8','component9',\n",
    "        'component10','component11','component12','component13'])"
   ]
  },
  {
   "cell_type": "code",
   "execution_count": 10,
   "metadata": {},
   "outputs": [],
   "source": [
    "finalDf = pd.concat([principalDf, wine[['class_name']]], axis = 1)"
   ]
  },
  {
   "cell_type": "code",
   "execution_count": 11,
   "metadata": {},
   "outputs": [
    {
     "data": {
      "text/html": [
       "<div>\n",
       "<style scoped>\n",
       "    .dataframe tbody tr th:only-of-type {\n",
       "        vertical-align: middle;\n",
       "    }\n",
       "\n",
       "    .dataframe tbody tr th {\n",
       "        vertical-align: top;\n",
       "    }\n",
       "\n",
       "    .dataframe thead th {\n",
       "        text-align: right;\n",
       "    }\n",
       "</style>\n",
       "<table border=\"1\" class=\"dataframe\">\n",
       "  <thead>\n",
       "    <tr style=\"text-align: right;\">\n",
       "      <th></th>\n",
       "      <th>component1</th>\n",
       "      <th>component2</th>\n",
       "      <th>component3</th>\n",
       "      <th>component4</th>\n",
       "      <th>component5</th>\n",
       "      <th>component6</th>\n",
       "      <th>component7</th>\n",
       "      <th>component8</th>\n",
       "      <th>component9</th>\n",
       "      <th>component10</th>\n",
       "      <th>component11</th>\n",
       "      <th>component12</th>\n",
       "      <th>component13</th>\n",
       "      <th>class_name</th>\n",
       "    </tr>\n",
       "  </thead>\n",
       "  <tbody>\n",
       "    <tr>\n",
       "      <th>0</th>\n",
       "      <td>3.316751</td>\n",
       "      <td>-1.443463</td>\n",
       "      <td>-0.165739</td>\n",
       "      <td>-0.215631</td>\n",
       "      <td>0.693043</td>\n",
       "      <td>-0.223880</td>\n",
       "      <td>0.596427</td>\n",
       "      <td>0.065139</td>\n",
       "      <td>0.641443</td>\n",
       "      <td>1.020956</td>\n",
       "      <td>-0.451563</td>\n",
       "      <td>0.540810</td>\n",
       "      <td>-0.066239</td>\n",
       "      <td>Barolo</td>\n",
       "    </tr>\n",
       "    <tr>\n",
       "      <th>1</th>\n",
       "      <td>2.209465</td>\n",
       "      <td>0.333393</td>\n",
       "      <td>-2.026457</td>\n",
       "      <td>-0.291358</td>\n",
       "      <td>-0.257655</td>\n",
       "      <td>-0.927120</td>\n",
       "      <td>0.053776</td>\n",
       "      <td>1.024416</td>\n",
       "      <td>-0.308847</td>\n",
       "      <td>0.159701</td>\n",
       "      <td>-0.142657</td>\n",
       "      <td>0.388238</td>\n",
       "      <td>0.003637</td>\n",
       "      <td>Barolo</td>\n",
       "    </tr>\n",
       "    <tr>\n",
       "      <th>2</th>\n",
       "      <td>2.516740</td>\n",
       "      <td>-1.031151</td>\n",
       "      <td>0.982819</td>\n",
       "      <td>0.724902</td>\n",
       "      <td>-0.251033</td>\n",
       "      <td>0.549276</td>\n",
       "      <td>0.424205</td>\n",
       "      <td>-0.344216</td>\n",
       "      <td>-1.177834</td>\n",
       "      <td>0.113361</td>\n",
       "      <td>-0.286673</td>\n",
       "      <td>0.000584</td>\n",
       "      <td>0.021717</td>\n",
       "      <td>Barolo</td>\n",
       "    </tr>\n",
       "    <tr>\n",
       "      <th>3</th>\n",
       "      <td>3.757066</td>\n",
       "      <td>-2.756372</td>\n",
       "      <td>-0.176192</td>\n",
       "      <td>0.567983</td>\n",
       "      <td>-0.311842</td>\n",
       "      <td>0.114431</td>\n",
       "      <td>-0.383337</td>\n",
       "      <td>0.643593</td>\n",
       "      <td>0.052544</td>\n",
       "      <td>0.239413</td>\n",
       "      <td>0.759584</td>\n",
       "      <td>-0.242020</td>\n",
       "      <td>-0.369484</td>\n",
       "      <td>Barolo</td>\n",
       "    </tr>\n",
       "    <tr>\n",
       "      <th>4</th>\n",
       "      <td>1.008908</td>\n",
       "      <td>-0.869831</td>\n",
       "      <td>2.026688</td>\n",
       "      <td>-0.409766</td>\n",
       "      <td>0.298458</td>\n",
       "      <td>-0.406520</td>\n",
       "      <td>0.444074</td>\n",
       "      <td>0.416700</td>\n",
       "      <td>0.326819</td>\n",
       "      <td>-0.078366</td>\n",
       "      <td>-0.525945</td>\n",
       "      <td>-0.216664</td>\n",
       "      <td>-0.079364</td>\n",
       "      <td>Barolo</td>\n",
       "    </tr>\n",
       "  </tbody>\n",
       "</table>\n",
       "</div>"
      ],
      "text/plain": [
       "   component1  component2  component3  component4  component5  component6  \\\n",
       "0    3.316751   -1.443463   -0.165739   -0.215631    0.693043   -0.223880   \n",
       "1    2.209465    0.333393   -2.026457   -0.291358   -0.257655   -0.927120   \n",
       "2    2.516740   -1.031151    0.982819    0.724902   -0.251033    0.549276   \n",
       "3    3.757066   -2.756372   -0.176192    0.567983   -0.311842    0.114431   \n",
       "4    1.008908   -0.869831    2.026688   -0.409766    0.298458   -0.406520   \n",
       "\n",
       "   component7  component8  component9  component10  component11  component12  \\\n",
       "0    0.596427    0.065139    0.641443     1.020956    -0.451563     0.540810   \n",
       "1    0.053776    1.024416   -0.308847     0.159701    -0.142657     0.388238   \n",
       "2    0.424205   -0.344216   -1.177834     0.113361    -0.286673     0.000584   \n",
       "3   -0.383337    0.643593    0.052544     0.239413     0.759584    -0.242020   \n",
       "4    0.444074    0.416700    0.326819    -0.078366    -0.525945    -0.216664   \n",
       "\n",
       "   component13 class_name  \n",
       "0    -0.066239     Barolo  \n",
       "1     0.003637     Barolo  \n",
       "2     0.021717     Barolo  \n",
       "3    -0.369484     Barolo  \n",
       "4    -0.079364     Barolo  "
      ]
     },
     "execution_count": 11,
     "metadata": {},
     "output_type": "execute_result"
    }
   ],
   "source": [
    "finalDf.head()"
   ]
  },
  {
   "cell_type": "code",
   "execution_count": 12,
   "metadata": {},
   "outputs": [
    {
     "data": {
      "text/plain": [
       "array([0.36198848, 0.1920749 , 0.11123631, 0.0706903 , 0.06563294,\n",
       "       0.04935823, 0.04238679, 0.02680749, 0.02222153, 0.01930019,\n",
       "       0.01736836, 0.01298233, 0.00795215])"
      ]
     },
     "execution_count": 12,
     "metadata": {},
     "output_type": "execute_result"
    }
   ],
   "source": [
    "pca.explained_variance_ratio_"
   ]
  },
  {
   "cell_type": "markdown",
   "metadata": {},
   "source": [
    "#### Cummulative proportion  of all 13 features"
   ]
  },
  {
   "cell_type": "code",
   "execution_count": 13,
   "metadata": {},
   "outputs": [
    {
     "data": {
      "text/plain": [
       "array([0.36198848, 0.55406338, 0.66529969, 0.73598999, 0.80162293,\n",
       "       0.85098116, 0.89336795, 0.92017544, 0.94239698, 0.96169717,\n",
       "       0.97906553, 0.99204785, 1.        ])"
      ]
     },
     "execution_count": 13,
     "metadata": {},
     "output_type": "execute_result"
    }
   ],
   "source": [
    "CP=np.cumsum(pca.explained_variance_ratio_)\n",
    "CP"
   ]
  },
  {
   "cell_type": "markdown",
   "metadata": {},
   "source": [
    "#### Plotting Cummulative Proportion of all 13 features"
   ]
  },
  {
   "cell_type": "code",
   "execution_count": 29,
   "metadata": {},
   "outputs": [
    {
     "data": {
      "image/png": "[encoded data removed]",
      "text/plain": [
       "<Figure size 432x288 with 1 Axes>"
      ]
     },
     "metadata": {
      "needs_background": "light"
     },
     "output_type": "display_data"
    }
   ],
   "source": [
    "plt.plot(CP, 'o')\n",
    "plt.title(\"Cummulative Proportion\")\n",
    "plt.show()"
   ]
  },
  {
   "cell_type": "markdown",
   "metadata": {},
   "source": [
    "#### From the above plot we infer that 90% can be achived when components=8"
   ]
  },
  {
   "cell_type": "markdown",
   "metadata": {},
   "source": [
    "### Model building where components_n=8 with PCA"
   ]
  },
  {
   "cell_type": "code",
   "execution_count": 15,
   "metadata": {},
   "outputs": [],
   "source": [
    "pca1 = PCA(n_components=8)\n",
    "principalComponents = pca1.fit_transform(y)\n",
    "principalDf1 = pd.DataFrame(data = principalComponents, columns=['component1','component2','component3','component4','component5','component6','component7','component8'])"
   ]
  },
  {
   "cell_type": "code",
   "execution_count": 16,
   "metadata": {},
   "outputs": [],
   "source": [
    "finalDf1 = pd.concat([principalDf1, wine[['class_name']]], axis = 1)"
   ]
  },
  {
   "cell_type": "code",
   "execution_count": 17,
   "metadata": {},
   "outputs": [
    {
     "data": {
      "text/html": [
       "<div>\n",
       "<style scoped>\n",
       "    .dataframe tbody tr th:only-of-type {\n",
       "        vertical-align: middle;\n",
       "    }\n",
       "\n",
       "    .dataframe tbody tr th {\n",
       "        vertical-align: top;\n",
       "    }\n",
       "\n",
       "    .dataframe thead th {\n",
       "        text-align: right;\n",
       "    }\n",
       "</style>\n",
       "<table border=\"1\" class=\"dataframe\">\n",
       "  <thead>\n",
       "    <tr style=\"text-align: right;\">\n",
       "      <th></th>\n",
       "      <th>component1</th>\n",
       "      <th>component2</th>\n",
       "      <th>component3</th>\n",
       "      <th>component4</th>\n",
       "      <th>component5</th>\n",
       "      <th>component6</th>\n",
       "      <th>component7</th>\n",
       "      <th>component8</th>\n",
       "      <th>class_name</th>\n",
       "    </tr>\n",
       "  </thead>\n",
       "  <tbody>\n",
       "    <tr>\n",
       "      <th>0</th>\n",
       "      <td>3.316751</td>\n",
       "      <td>-1.443463</td>\n",
       "      <td>-0.165739</td>\n",
       "      <td>-0.215631</td>\n",
       "      <td>0.693043</td>\n",
       "      <td>-0.223880</td>\n",
       "      <td>0.596427</td>\n",
       "      <td>0.065139</td>\n",
       "      <td>Barolo</td>\n",
       "    </tr>\n",
       "    <tr>\n",
       "      <th>1</th>\n",
       "      <td>2.209465</td>\n",
       "      <td>0.333393</td>\n",
       "      <td>-2.026457</td>\n",
       "      <td>-0.291358</td>\n",
       "      <td>-0.257655</td>\n",
       "      <td>-0.927120</td>\n",
       "      <td>0.053776</td>\n",
       "      <td>1.024416</td>\n",
       "      <td>Barolo</td>\n",
       "    </tr>\n",
       "    <tr>\n",
       "      <th>2</th>\n",
       "      <td>2.516740</td>\n",
       "      <td>-1.031151</td>\n",
       "      <td>0.982819</td>\n",
       "      <td>0.724902</td>\n",
       "      <td>-0.251033</td>\n",
       "      <td>0.549276</td>\n",
       "      <td>0.424205</td>\n",
       "      <td>-0.344216</td>\n",
       "      <td>Barolo</td>\n",
       "    </tr>\n",
       "    <tr>\n",
       "      <th>3</th>\n",
       "      <td>3.757066</td>\n",
       "      <td>-2.756372</td>\n",
       "      <td>-0.176192</td>\n",
       "      <td>0.567983</td>\n",
       "      <td>-0.311842</td>\n",
       "      <td>0.114431</td>\n",
       "      <td>-0.383337</td>\n",
       "      <td>0.643593</td>\n",
       "      <td>Barolo</td>\n",
       "    </tr>\n",
       "    <tr>\n",
       "      <th>4</th>\n",
       "      <td>1.008908</td>\n",
       "      <td>-0.869831</td>\n",
       "      <td>2.026688</td>\n",
       "      <td>-0.409766</td>\n",
       "      <td>0.298458</td>\n",
       "      <td>-0.406520</td>\n",
       "      <td>0.444074</td>\n",
       "      <td>0.416700</td>\n",
       "      <td>Barolo</td>\n",
       "    </tr>\n",
       "  </tbody>\n",
       "</table>\n",
       "</div>"
      ],
      "text/plain": [
       "   component1  component2  component3  component4  component5  component6  \\\n",
       "0    3.316751   -1.443463   -0.165739   -0.215631    0.693043   -0.223880   \n",
       "1    2.209465    0.333393   -2.026457   -0.291358   -0.257655   -0.927120   \n",
       "2    2.516740   -1.031151    0.982819    0.724902   -0.251033    0.549276   \n",
       "3    3.757066   -2.756372   -0.176192    0.567983   -0.311842    0.114431   \n",
       "4    1.008908   -0.869831    2.026688   -0.409766    0.298458   -0.406520   \n",
       "\n",
       "   component7  component8 class_name  \n",
       "0    0.596427    0.065139     Barolo  \n",
       "1    0.053776    1.024416     Barolo  \n",
       "2    0.424205   -0.344216     Barolo  \n",
       "3   -0.383337    0.643593     Barolo  \n",
       "4    0.444074    0.416700     Barolo  "
      ]
     },
     "execution_count": 17,
     "metadata": {},
     "output_type": "execute_result"
    }
   ],
   "source": [
    "finalDf1.head()"
   ]
  },
  {
   "cell_type": "markdown",
   "metadata": {},
   "source": [
    "### Using Logistic Regression"
   ]
  },
  {
   "cell_type": "code",
   "execution_count": 18,
   "metadata": {},
   "outputs": [],
   "source": [
    "X=principalDf1\n",
    "Y=wine['class_name']"
   ]
  },
  {
   "cell_type": "code",
   "execution_count": 19,
   "metadata": {},
   "outputs": [
    {
     "data": {
      "text/plain": [
       "((142, 8), (142,))"
      ]
     },
     "execution_count": 19,
     "metadata": {},
     "output_type": "execute_result"
    }
   ],
   "source": [
    "X_train, X_test, Y_train, Y_test = train_test_split(X, Y, test_size=0.2, random_state=1)\n",
    "X_train.shape, Y_train.shape"
   ]
  },
  {
   "cell_type": "code",
   "execution_count": 20,
   "metadata": {},
   "outputs": [
    {
     "name": "stdout",
     "output_type": "stream",
     "text": [
      "0.9722222222222222\n"
     ]
    }
   ],
   "source": [
    "LR = LogisticRegression()\n",
    "LR.fit(X_train, Y_train)\n",
    "y_predict = LR.predict(X_test)\n",
    "y_accuracy = metrics.accuracy_score(Y_test,y_predict)\n",
    "print(y_accuracy)"
   ]
  },
  {
   "cell_type": "markdown",
   "metadata": {},
   "source": [
    "### Model building without PCA using Logistic Regression"
   ]
  },
  {
   "cell_type": "code",
   "execution_count": 21,
   "metadata": {},
   "outputs": [],
   "source": [
    "A=y\n",
    "B=wine['class_name']"
   ]
  },
  {
   "cell_type": "code",
   "execution_count": 22,
   "metadata": {},
   "outputs": [
    {
     "data": {
      "text/plain": [
       "((142, 13), (142,))"
      ]
     },
     "execution_count": 22,
     "metadata": {},
     "output_type": "execute_result"
    }
   ],
   "source": [
    "x_train, x_test, y_train, y_test = train_test_split(A, B, test_size=0.2, random_state=1)\n",
    "x_train.shape, y_train.shape"
   ]
  },
  {
   "cell_type": "code",
   "execution_count": 23,
   "metadata": {},
   "outputs": [
    {
     "name": "stdout",
     "output_type": "stream",
     "text": [
      "1.0\n"
     ]
    }
   ],
   "source": [
    "LR1 = LogisticRegression()\n",
    "LR1.fit(x_train, y_train)\n",
    "y1_predict = LR1.predict(x_test)\n",
    "y1_accuracy = metrics.accuracy_score(y_test,y1_predict)\n",
    "print(y1_accuracy)"
   ]
  },
  {
   "cell_type": "markdown",
   "metadata": {},
   "source": [
    "### Model building where components_n=5 with PCA"
   ]
  },
  {
   "cell_type": "code",
   "execution_count": 24,
   "metadata": {},
   "outputs": [],
   "source": [
    "pca2 = PCA(n_components=5)\n",
    "principalComponents = pca2.fit_transform(y)\n",
    "principalDf2 = pd.DataFrame(data = principalComponents, columns=['component1','component2','component3','component4','component5'])"
   ]
  },
  {
   "cell_type": "code",
   "execution_count": 25,
   "metadata": {
    "scrolled": true
   },
   "outputs": [
    {
     "data": {
      "text/html": [
       "<div>\n",
       "<style scoped>\n",
       "    .dataframe tbody tr th:only-of-type {\n",
       "        vertical-align: middle;\n",
       "    }\n",
       "\n",
       "    .dataframe tbody tr th {\n",
       "        vertical-align: top;\n",
       "    }\n",
       "\n",
       "    .dataframe thead th {\n",
       "        text-align: right;\n",
       "    }\n",
       "</style>\n",
       "<table border=\"1\" class=\"dataframe\">\n",
       "  <thead>\n",
       "    <tr style=\"text-align: right;\">\n",
       "      <th></th>\n",
       "      <th>component1</th>\n",
       "      <th>component2</th>\n",
       "      <th>component3</th>\n",
       "      <th>component4</th>\n",
       "      <th>component5</th>\n",
       "      <th>class_name</th>\n",
       "    </tr>\n",
       "  </thead>\n",
       "  <tbody>\n",
       "    <tr>\n",
       "      <th>0</th>\n",
       "      <td>3.316751</td>\n",
       "      <td>-1.443463</td>\n",
       "      <td>-0.165739</td>\n",
       "      <td>-0.215631</td>\n",
       "      <td>0.693043</td>\n",
       "      <td>Barolo</td>\n",
       "    </tr>\n",
       "    <tr>\n",
       "      <th>1</th>\n",
       "      <td>2.209465</td>\n",
       "      <td>0.333393</td>\n",
       "      <td>-2.026457</td>\n",
       "      <td>-0.291358</td>\n",
       "      <td>-0.257655</td>\n",
       "      <td>Barolo</td>\n",
       "    </tr>\n",
       "    <tr>\n",
       "      <th>2</th>\n",
       "      <td>2.516740</td>\n",
       "      <td>-1.031151</td>\n",
       "      <td>0.982819</td>\n",
       "      <td>0.724902</td>\n",
       "      <td>-0.251033</td>\n",
       "      <td>Barolo</td>\n",
       "    </tr>\n",
       "    <tr>\n",
       "      <th>3</th>\n",
       "      <td>3.757066</td>\n",
       "      <td>-2.756372</td>\n",
       "      <td>-0.176192</td>\n",
       "      <td>0.567983</td>\n",
       "      <td>-0.311842</td>\n",
       "      <td>Barolo</td>\n",
       "    </tr>\n",
       "    <tr>\n",
       "      <th>4</th>\n",
       "      <td>1.008908</td>\n",
       "      <td>-0.869831</td>\n",
       "      <td>2.026688</td>\n",
       "      <td>-0.409766</td>\n",
       "      <td>0.298458</td>\n",
       "      <td>Barolo</td>\n",
       "    </tr>\n",
       "  </tbody>\n",
       "</table>\n",
       "</div>"
      ],
      "text/plain": [
       "   component1  component2  component3  component4  component5 class_name\n",
       "0    3.316751   -1.443463   -0.165739   -0.215631    0.693043     Barolo\n",
       "1    2.209465    0.333393   -2.026457   -0.291358   -0.257655     Barolo\n",
       "2    2.516740   -1.031151    0.982819    0.724902   -0.251033     Barolo\n",
       "3    3.757066   -2.756372   -0.176192    0.567983   -0.311842     Barolo\n",
       "4    1.008908   -0.869831    2.026688   -0.409766    0.298458     Barolo"
      ]
     },
     "execution_count": 25,
     "metadata": {},
     "output_type": "execute_result"
    }
   ],
   "source": [
    "finalDf2 = pd.concat([principalDf2, wine[['class_name']]], axis = 1)\n",
    "finalDf2.head()"
   ]
  },
  {
   "cell_type": "markdown",
   "metadata": {},
   "source": [
    "### Using Logistic Regression"
   ]
  },
  {
   "cell_type": "code",
   "execution_count": 26,
   "metadata": {},
   "outputs": [],
   "source": [
    "a=principalDf2\n",
    "b=wine['class_name']"
   ]
  },
  {
   "cell_type": "code",
   "execution_count": 27,
   "metadata": {},
   "outputs": [
    {
     "data": {
      "text/plain": [
       "((142, 5), (142,))"
      ]
     },
     "execution_count": 27,
     "metadata": {},
     "output_type": "execute_result"
    }
   ],
   "source": [
    "X1_train, X1_test, Y1_train, Y1_test = train_test_split(a, b, test_size=0.2, random_state=1)\n",
    "X1_train.shape, Y1_train.shape"
   ]
  },
  {
   "cell_type": "code",
   "execution_count": 28,
   "metadata": {},
   "outputs": [
    {
     "name": "stdout",
     "output_type": "stream",
     "text": [
      "1.0\n"
     ]
    }
   ],
   "source": [
    "LR2 = LogisticRegression()\n",
    "LR2.fit(X1_train, Y1_train)\n",
    "y2_predict = LR2.predict(X1_test)\n",
    "y2_accuracy = metrics.accuracy_score(Y1_test,y2_predict)\n",
    "print(y2_accuracy)"
   ]
  }
 ],
 "metadata": {
  "kernelspec": {
   "display_name": "Python 3",
   "language": "python",
   "name": "python3"
  },
  "language_info": {
   "codemirror_mode": {
    "name": "ipython",
    "version": 3
   },
   "file_extension": ".py",
   "mimetype": "text/x-python",
   "name": "python",
   "nbconvert_exporter": "python",
   "pygments_lexer": "ipython3",
   "version": "3.7.0"
  }
 },
 "nbformat": 4,
 "nbformat_minor": 2
}
